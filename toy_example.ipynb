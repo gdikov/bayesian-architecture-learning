{
 "cells": [
  {
   "cell_type": "code",
   "execution_count": 2,
   "metadata": {
    "pycharm": {
     "is_executing": false
    }
   },
   "outputs": [],
   "source": [
    "%matplotlib inline\n",
    "\n",
    "import matplotlib.pyplot as plt\n",
    "import numpy as np\n",
    "import torch\n",
    "from torch import nn\n",
    "from torch import optim\n",
    "\n",
    "import tqdm.notebook as tqdm\n",
    "\n",
    "\n",
    "from bal import data, layers\n"
   ]
  },
  {
   "cell_type": "code",
   "execution_count": 3,
   "metadata": {
    "pycharm": {
     "is_executing": false,
     "name": "#%%\n"
    }
   },
   "outputs": [],
   "source": [
    "xs, ys = data.generate_1d_regression(\n",
    "    n_points=1000,\n",
    "    domain=(-1, 3), \n",
    "    noise_std=0.1, \n",
    "    seed=7\n",
    ")"
   ]
  },
  {
   "cell_type": "code",
   "execution_count": 4,
   "metadata": {
    "pycharm": {
     "is_executing": false,
     "name": "#%%\n"
    }
   },
   "outputs": [
    {
     "data": {
      "text/plain": [
       "<matplotlib.collections.PathCollection at 0x12103d208>"
      ]
     },
     "execution_count": 4,
     "metadata": {},
     "output_type": "execute_result"
    },
    {
     "data": {
      "image/png": "[encoded data removed]",
      "text/plain": [
       "<Figure size 432x288 with 1 Axes>"
      ]
     },
     "metadata": {
      "needs_background": "light"
     },
     "output_type": "display_data"
    }
   ],
   "source": [
    "fig, ax = plt.subplots()\n",
    "ax.scatter(xs, ys, s=0.2, color=\"black\")"
   ]
  },
  {
   "cell_type": "code",
   "execution_count": 25,
   "metadata": {
    "pycharm": {
     "is_executing": false,
     "name": "#%%\n"
    }
   },
   "outputs": [],
   "source": [
    "class AdaptiveNet(nn.Module):\n",
    "    def __init__(self, in_features, h_size, out_features):\n",
    "        super(AdaptiveNet, self).__init__()\n",
    "        self.fc1 = nn.Linear(in_features, h_size)\n",
    "        self.ada1 = layers.AdaptiveSize(\n",
    "            min_size=1,\n",
    "            max_size=h_size,\n",
    "            prior_size_loc=50,\n",
    "            prior_size_scale=1,\n",
    "            temperature=3.0\n",
    "        )\n",
    "        self.lik = layers.GaussianLikelihood(mode=\"homoscedastic\")\n",
    "        self.fc2 = nn.Linear(h_size, out_features)\n",
    "        self.bayesian_layers = [self.ada1]\n",
    "\n",
    "    def forward(self, inp):\n",
    "        out = nn.functional.relu(self.fc1(inp))\n",
    "        out = self.ada1(out)\n",
    "        out = self.fc2(out)\n",
    "        return out\n",
    "\n",
    "    def log_likelihood(self, xs, ys):\n",
    "        params = self.forward(xs)\n",
    "        logprobs = self.lik(params).log_prob(ys)\n",
    "        return logprobs\n",
    "    \n",
    "    def kl_qp(n_samples=100):\n",
    "        kls = []\n",
    "        for bl in self.bayesian_layers:\n",
    "            samples_q = bl.posterior.sample((n_samples,))\n",
    "            kls.append(torch.mean(\n",
    "                dist_q.log_prob(samples_q) - dist_p.log_prob(samples_q)\n",
    "            ))\n",
    "        return torch.sum(kls)\n",
    "        "
   ]
  },
  {
   "cell_type": "code",
   "execution_count": 31,
   "metadata": {},
   "outputs": [],
   "source": [
    "xs_t = torch.as_tensor(xs, dtype=torch.float32)\n",
    "ys_t = torch.as_tensor(ys, dtype=torch.float32)\n",
    "net = AdaptiveNet(\n",
    "    in_features=1,\n",
    "    h_size=50,\n",
    "    out_features=1\n",
    ")\n",
    "opt = optim.Adam(net.parameters(), lr=1e-3)"
   ]
  },
  {
   "cell_type": "code",
   "execution_count": 32,
   "metadata": {
    "pycharm": {
     "is_executing": false,
     "name": "#%%\n"
    }
   },
   "outputs": [
    {
     "data": {
      "application/vnd.jupyter.widget-view+json": {
       "model_id": "8c371178fecc4a079d230d03b9a88382",
       "version_major": 2,
       "version_minor": 0
      },
      "text/plain": [
       "HBox(children=(FloatProgress(value=0.0, max=4000.0), HTML(value='')))"
      ]
     },
     "metadata": {},
     "output_type": "display_data"
    },
    {
     "name": "stdout",
     "output_type": "stream",
     "text": [
      "\n"
     ]
    }
   ],
   "source": [
    "pbar = tqdm.tqdm(range(4000))\n",
    "for i in pbar:\n",
    "    opt.zero_grad()\n",
    "    nll = -torch.mean(net.log_likelihood(xs_t, ys_t))\n",
    "    nll.backward()\n",
    "    opt.step()\n",
    "    nll_val = nll.detach().numpy()\n",
    "    infered_scale = nn.functional.softplus(net.lik.var_spi_scale.detach()).numpy()\n",
    "    lsize = net.ada1.var_loc.detach().numpy()\n",
    "    pbar.set_description_str(\n",
    "        f\"loss: {nll_val:5.4f}, \" \n",
    "        f\"scale: {infered_scale:4.3f}, \" \n",
    "        f\"size: {lsize:5.2f}\"\n",
    "    )"
   ]
  },
  {
   "cell_type": "code",
   "execution_count": null,
   "metadata": {},
   "outputs": [],
   "source": []
  }
 ],
 "metadata": {
  "kernelspec": {
   "display_name": "Python 3",
   "language": "python",
   "name": "python3"
  },
  "language_info": {
   "codemirror_mode": {
    "name": "ipython",
    "version": 3
   },
   "file_extension": ".py",
   "mimetype": "text/x-python",
   "name": "python",
   "nbconvert_exporter": "python",
   "pygments_lexer": "ipython3",
   "version": "3.7.3"
  },
  "pycharm": {
   "stem_cell": {
    "cell_type": "raw",
    "metadata": {
     "collapsed": false
    },
    "source": []
   }
  }
 },
 "nbformat": 4,
 "nbformat_minor": 1
}
