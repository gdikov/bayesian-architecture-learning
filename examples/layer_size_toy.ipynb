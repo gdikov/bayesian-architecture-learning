{
 "cells": [
  {
   "cell_type": "code",
   "execution_count": 10,
   "metadata": {
    "pycharm": {
     "is_executing": false
    }
   },
   "outputs": [],
   "source": [
    "import sys\n",
    "\n",
    "import matplotlib.pyplot as plt\n",
    "from matplotlib import animation\n",
    "import numpy as np\n",
    "import scipy.stats as sp_stats\n",
    "import torch\n",
    "from torch import nn\n",
    "from torch import optim\n",
    "\n",
    "import tqdm.notebook as tqdm\n",
    "from IPython.display import HTML"
   ]
  },
  {
   "cell_type": "code",
   "execution_count": 2,
   "metadata": {},
   "outputs": [],
   "source": [
    "sys.path.append(\"../\")\n",
    "\n",
    "from bal import data, layers\n",
    "from utils import animate_layer"
   ]
  },
  {
   "cell_type": "code",
   "execution_count": 3,
   "metadata": {
    "pycharm": {
     "is_executing": false,
     "name": "#%%\n"
    }
   },
   "outputs": [],
   "source": [
    "class AdaptiveNet(nn.Module):\n",
    "    def __init__(self, in_features, h_size, out_features):\n",
    "        super(AdaptiveNet, self).__init__()\n",
    "        self.fc1 = nn.Linear(in_features, h_size)\n",
    "        self.ada1 = layers.AdaptiveSize(\n",
    "            min_size=1,\n",
    "            max_size=h_size,\n",
    "            prior_loc=1,\n",
    "            prior_scale=2,\n",
    "            temperature=1.0\n",
    "        )\n",
    "        self.fc2 = nn.Linear(h_size, out_features)\n",
    "        self.lik = layers.GaussianLikelihood(scale=0.1)\n",
    "        self.bayesian_layers = [self.ada1]\n",
    "\n",
    "    def forward(self, inp):\n",
    "        out = nn.functional.relu(self.fc1(inp))\n",
    "        out = self.ada1(out)\n",
    "        out = self.fc2(out)\n",
    "        return out\n",
    "\n",
    "    def log_likelihood(self, xs, ys):\n",
    "        params = self.forward(xs)\n",
    "        logprobs = self.lik(params).log_prob(ys)\n",
    "        return logprobs\n",
    "    \n",
    "    def kl_qp(self, n_samples=1, scale=1.0):\n",
    "        kls = []\n",
    "        for bl in self.bayesian_layers:\n",
    "            samples_q = bl.posterior.rsample((n_samples,))\n",
    "            kls.append(torch.mean(\n",
    "                bl.posterior.log_prob(samples_q) - bl.prior.log_prob(samples_q)\n",
    "            ))\n",
    "        return scale * torch.sum(torch.stack(kls))\n",
    "        \n",
    "\n",
    "def geometric_discount(n, i):\n",
    "    return 2 ** (n - i) / (2 ** n - 1)\n",
    "\n",
    "\n",
    "def uniform_discount(n, _):\n",
    "    return 1 / n"
   ]
  },
  {
   "cell_type": "code",
   "execution_count": 17,
   "metadata": {},
   "outputs": [],
   "source": [
    "def run_step(xs_t, ys_t, opt, net, kl_scale=1.0):\n",
    "    opt.zero_grad()\n",
    "    ll = torch.mean(net.log_likelihood(xs_t, ys_t))\n",
    "    kl = net.kl_qp(n_samples=100, scale=kl_scale)\n",
    "    loss = kl - ll\n",
    "    loss.backward()\n",
    "    opt.step()\n",
    "    stats = {\n",
    "        \"loss\": loss.detach().numpy(),\n",
    "#         \"data_noise_scale\": nn.functional.softplus(net.lik.var_spi_scale.detach()).numpy(),\n",
    "        \"layer_loc\": net.ada1.var_loc.detach().numpy(),\n",
    "        \"layer_scale\": nn.functional.softplus(net.ada1.var_spi_scale.detach()).numpy()\n",
    "    }\n",
    "    return stats"
   ]
  },
  {
   "cell_type": "code",
   "execution_count": 18,
   "metadata": {
    "pycharm": {
     "is_executing": false,
     "name": "#%%\n"
    }
   },
   "outputs": [],
   "source": [
    "domain = (-2.0, 2.0)\n",
    "xs, ys = data.generate_1d_regression(\n",
    "    n_points=1000,\n",
    "    domain=domain, \n",
    "    noise_std=0.1, \n",
    "    seed=7\n",
    ")\n",
    "xs_test = np.linspace(-4.0, 4.0, 500).reshape(-1, 1)"
   ]
  },
  {
   "cell_type": "code",
   "execution_count": 24,
   "metadata": {},
   "outputs": [],
   "source": [
    "MAX_SIZE = 50\n",
    "xs_t = torch.as_tensor(xs, dtype=torch.float32)\n",
    "ys_t = torch.as_tensor(ys, dtype=torch.float32)\n",
    "xs_test_t = torch.as_tensor(xs_test, dtype=torch.float32)\n",
    "net = AdaptiveNet(\n",
    "    in_features=1,\n",
    "    h_size=MAX_SIZE,\n",
    "    out_features=1\n",
    ")\n",
    "opt = optim.Adam(net.parameters(), lr=2e-4)"
   ]
  },
  {
   "cell_type": "code",
   "execution_count": 25,
   "metadata": {
    "pycharm": {
     "is_executing": false,
     "name": "#%%\n"
    }
   },
   "outputs": [
    {
     "data": {
      "application/vnd.jupyter.widget-view+json": {
       "model_id": "c006c81b94b9443fbecdf4dec8a745cd",
       "version_major": 2,
       "version_minor": 0
      },
      "text/plain": [
       "HBox(children=(FloatProgress(value=0.0, max=1000.0), HTML(value='')))"
      ]
     },
     "metadata": {},
     "output_type": "display_data"
    },
    {
     "name": "stdout",
     "output_type": "stream",
     "text": [
      "\n"
     ]
    }
   ],
   "source": [
    "n_epochs = 1000\n",
    "batch_size = 1000\n",
    "pbar = tqdm.tqdm(range(n_epochs))\n",
    "train_history = {\"layer_loc\": [], \"layer_scale\": [], \"preds\": []}\n",
    "for i in pbar:\n",
    "    for j, (x_t, y_t) in enumerate(data.batch_generator(xs_t, ys_t, batch_size, shuffle=True)):\n",
    "        kl_scale = geometric_discount(len(xs_t) // batch_size, j+1)\n",
    "        stats = run_step(x_t, y_t, opt, net, kl_scale)\n",
    "    if i % 1000 == 0:\n",
    "        pbar.set_description_str(\n",
    "            f\"loss: {stats['loss']:4.2f}, \" \n",
    "            f\"l_loc: {stats['layer_loc']:4.2f}, \" \n",
    "            f\"l_scale: {stats['layer_scale']:4.2f}\"\n",
    "        )\n",
    "        train_history[\"layer_loc\"].append(stats[\"layer_loc\"])\n",
    "        train_history[\"layer_scale\"].append(stats[\"layer_scale\"])\n",
    "        train_history[\"preds\"].append(net(xs_test_t).detach().numpy().squeeze())\n",
    "\n",
    "for k, v in train_history.items():\n",
    "    train_history[k] = np.asarray(v)"
   ]
  },
  {
   "cell_type": "code",
   "execution_count": 26,
   "metadata": {},
   "outputs": [
    {
     "data": {
      "text/html": [
       "<video width=\"1440\" height=\"360\" controls autoplay loop>\n",
       "  <source type=\"video/mp4\" src=\"data:video/mp4;base64,AAAAHGZ0eXBNNFYgAAACAGlzb21pc28yYXZjMQAAAAhmcmVlAAAl021kYXQAAAKuBgX//6rcRem9\n",
       "5tlIt5Ys2CDZI+7veDI2NCAtIGNvcmUgMTQ4IHIyNzQ4IDk3ZWFlZjIgLSBILjI2NC9NUEVHLTQg\n",
       "QVZDIGNvZGVjIC0gQ29weWxlZnQgMjAwMy0yMDE2IC0gaHR0cDovL3d3dy52aWRlb2xhbi5vcmcv\n",
       "eDI2NC5odG1sIC0gb3B0aW9uczogY2FiYWM9MSByZWY9MyBkZWJsb2NrPTE6MDowIGFuYWx5c2U9\n",
       "MHgzOjB4MTEzIG1lPWhleCBzdWJtZT03IHBzeT0xIHBzeV9yZD0xLjAwOjAuMDAgbWl4ZWRfcmVm\n",
       "PTEgbWVfcmFuZ2U9MTYgY2hyb21hX21lPTEgdHJlbGxpcz0xIDh4OGRjdD0xIGNxbT0wIGRlYWR6\n",
       "b25lPTIxLDExIGZhc3RfcHNraXA9MSBjaHJvbWFfcXBfb2Zmc2V0PS0yIHRocmVhZHM9NiBsb29r\n",
       "YWhlYWRfdGhyZWFkcz0xIHNsaWNlZF90aHJlYWRzPTAgbnI9MCBkZWNpbWF0ZT0xIGludGVybGFj\n",
       "ZWQ9MCBibHVyYXlfY29tcGF0PTAgY29uc3RyYWluZWRfaW50cmE9MCBiZnJhbWVzPTMgYl9weXJh\n",
       "bWlkPTIgYl9hZGFwdD0xIGJfYmlhcz0wIGRpcmVjdD0xIHdlaWdodGI9MSBvcGVuX2dvcD0wIHdl\n",
       "aWdodHA9MiBrZXlpbnQ9MjUwIGtleWludF9taW49MjAgc2NlbmVjdXQ9NDAgaW50cmFfcmVmcmVz\n",
       "aD0wIHJjX2xvb2thaGVhZD00MCByYz1jcmYgbWJ0cmVlPTEgY3JmPTIzLjAgcWNvbXA9MC42MCBx\n",
       "cG1pbj0wIHFwbWF4PTY5IHFwc3RlcD00IGlwX3JhdGlvPTEuNDAgYXE9MToxLjAwAIAAACMVZYiE\n",
       "ACv//vZzfAprRzOVLgV292aj5dCS5fsQYPrQAAADAAADAAADAAADADvExKRY1+mSV1AAAAMAAAMB\n",
       "Z2adMM2iZgBcNslZqIArAleEcWlcvvMyCWPRkIv+y6iR8A5I10Y9xaaVmU1baXH0voYazX8JesSx\n",
       "epzfyWz0xgSmrOUuH94Gs2hlde30HaviDAVAFiN0CsJba1NBJxp89W3IiGXu+uDzGUUkKgfz3+V5\n",
       "D2pZ8xNOZl4vP1FPn5+Bpytmr4KSHQPeQNaQlSu4wzJEjIMhKj4QiQ2imir9Y7fRSyN32ygIF+OU\n",
       "ZCppAOAE7BUwPZeH5uxyp/rEYpmahClv+qa4xNqEDi1zSQmuDSJtJBl6sVd81PBH/qcC/BH6qz81\n",
       "Znw7gMsYB0k+2QSJVmmKTjpMCMEldhrP1i48X57zXGL+VrT/0AmhQYyUXMl9gAAAEvsZgL+RmVPs\n",
       "lPl25qq5BLaXYsSjzZzute8ZWEoz67HfN3PMs9hQoQBZJ5LyNFXADzeoTo+8oLntcEzOmUKSgOKv\n",
       "+kpLW1ZQq/HowACGDRLJanwz69ZUgJAAGf7mDJNposSoJrDLUnnSv5KBQyZ5vPYy/uGT1Zj3eaQx\n",
       "h9xaoZ0INGnjsP0wRoMCet2GvqPUoy0J8nuN6FurX3cU9JXug97rAH/v8IwyFlQfJGT2qo8+I0lU\n",
       "B2VIvgFhvzRBVo+/sFv4I2gAAAyzgRFN57cXXgADBj/OnPXz0jNoEgp5GUMmPkUX/lAiW+RP5DAe\n",
       "gzV+2Nn81BTMqsEXicqrFpf4uIl5/w1od7lDDyL310J089wdDKkXGEy8G1y7L3wYMBsXMb7xYLet\n",
       "+lZ6/z5VJfxwRHhuDYuWETnuPnhgUxz4eCb4UlMDca3B5X2YkkkGEp6tXutFsgCuc9VmxmdUCCP4\n",
       "LiLn8AFq0yOE3kjQH9ceQAQBOp02zkL9Ofed/vsXI3D6AAPYAKdar2KOyDbRLhee2JTamcaUDmPw\n",
       "+b8IChT6zBlhGkm/p/AzwMVrKqufdPrlhFnHyAtwl6Jy4zgsZQb5+RcEQMCn0NUYk2jyKYJAQloN\n",
       "pSHTvx4HD1t5+0FHwb7DIGYsMZhw938gQTFmuQEME3/b8CCnK2gsNT15U0H3EqUjxgSNw31az+ef\n",
       "/KGXFmyTJ6e0bn5BAwUPWK3RQqB9+7k5iiwpiagSrREYJO5QLwagKtllfaNUvddh/Zzl5GXfmqzs\n",
       "rNMLMZKsrJJolqMkE15rqS3yamNWUBF8NcUtg+CC8BVyJosYRCecFkjnrLs9HNtx88CkSnxkBcJp\n",
       "s69UazsbEFtaAX5p/NAKiqZesF+RKwl4K8z1PyrU3PZckU5c7I2VwQSyzfGGNxTwTA5zCZjJJCp3\n",
       "oOglH/DkHO6AB2YIIU8wD+oADNOxhtvmxA5OtIHm3tPitQFlkbcCSRAbpex/44zWw0O+Iv1KoRQ8\n",
       "hUbaSqvzuMTxgQbO1Zjn1QOmZUlATaw0Sosi8AXpiKa4++McUnHMU6SBkWXk4NF3WZCoqR5Xw64Y\n",
       "Sq6ZwitX83BPdPq9oaNax3tqfiwvsenpeONKB7n+Klu3hrIJxw/ap78THarQ862QSoW/urtMO899\n",
       "xKKaWRAW5YKAQba+ZlZd6VnHwl0PaTMyNN0M+IAcVIGPvH0af1kbY1nN9reLDplEbBdLyGExWmqt\n",
       "eEPqDuSzCnRzOnncFVtm6TQ+Z+tonhBK/aAEEJFI0zy9M3OkmMfjkIJbQ/aJB6GUCxgYmnpqwtoO\n",
       "1CL5R+uwhvLYu6v2xTGPKAZvD1q7XAiB3JQklE+F5U4gtRAGaMdHLV1sws8AdCkgB8hjgMvFYfja\n",
       "1CtLU2SXt+adXfOxC0dPNAQF6yFNdCPbx6MjRbyPvg9Pp85nDvKRo7VxzgJBclFU+fXwo4EXLes/\n",
       "j62XLAMei9mbrV7HbO0HjsHAqGNfEm2LRCczmom/gG6QMLxmBezunKkX2l/IORzni5O8jycQQYZV\n",
       "QVqqJQqJQzzRPDG4GnriaRfXpE8i8QEZVye7PqXTgU8at/kUuCFMv5Jb8oUwEBa8v4pDdxQJiJ0Z\n",
       "NCjEV7p7lBUnkgLfHhauSauPBPBkAy5SSMcMLGYZmTi4aQQqO1tvSc9fRCGsX3DdatwUFVF7JMJa\n",
       "YdKG0ZeYbNx8bGUAUVTJpsLnCn1lhgPdY3bJy9unQDgHXRPh3iTLEM93GjZzJtLg22/H9stMrSpk\n",
       "aHl7b4XyWHiEq57rSEhUbrxv2qZcESwxhjmb87Q797CAlEej/DGmJ8+ik5tHrp7j4cr/hvJtu2ii\n",
       "HrbCMY9ULrwdfoF2TVKJ9/P1ce51aJuT4tBqDvg0AznoLJA6aRVE8L7ksJZACD7vBrw1qAbxiLdv\n",
       "JOlyEMXPVw/eosg0LCCqGUwGC3HY7Udv6YGpZZ5lYDrbtSp8WV+8jrtMl1Pfwhd3bQXQVSXvseAu\n",
       "UZfrQ+iseYhP0xY7C8Cp+xqA3YKkHFDvoISdpgZ5v4Iyx69CQUFQfF0gWvzA8wTMCbLgCbQLWFE7\n",
       "qBWxnWMlCyZV4vUBoT3a3hRc0zxMUAQKeVcKuUZ5/PWlJOEgfPira7flkJspMLKaC4AnBKOEVyPe\n",
       "G9mlPWreqzx2WNaAX+6DI3mWlt3KYSf3Dt6/+pZo8AHR7Tz7F089ru/dS1G+IF6OIOLwjjODXKN+\n",
       "NJiOFonldRtDgvWfH21QMVEQa9OYBJUsd4trfgW9jrB6v1nVZW+OglRGJysSlssEjV+B+4k6nTXm\n",
       "FFCm70K7y2b0MUJT0YkIfbfwVx85LG+NKIYWWRG/8HIXPrG7qgNCJBfssObDUwYs4WtKtnynqIp7\n",
       "ZdnpCxQcUJ8rT6PLEwwwu5iSIEQI0wAjop6MzXKiEpotuYF8lfxYjWlWSkV9zNmqY99QgVLapkxA\n",
       "6PF3Lt5WUYowU3TSQ3VohufFmfBhuWf4AnlPtlJ4t6WutH4neyOmm5gTm6MJsvWq2LSjahVh/2Mz\n",
       "C9hup9JvAqR0Kjr2gQreIi7Y0MUB83u8nPA2M+R3e8uqcDUsKhL9T1lEUoZnYZzrehfx8VdCgF0G\n",
       "B46W5Qa++pA/RYwFEHkOiXLxv+gDQTnpdiyNyqH8VgwzZ/jyDCoSYL3885X5xm1He0GpEZRbGCZt\n",
       "2K91qfPWDGZDFRjZh2yADm7BdfogCKSRKm+g01wRBtEo1HSBSN8OVB1eqfyCYYIfFPi2Xc1vHVc1\n",
       "7P6ycRKhNkIQ9bP6fkyPs2jYFwT7JnzzS73TPz596s3pcIgNO9Tu1r0B0WdhQzhDi0wzh6HxFhm2\n",
       "GonG0HxMoePriMa6IqnxICbFmdr99whCQDT3ydNakgBtKISjJ05ajN8um115u4Sh61s17j2innJZ\n",
       "SFATACjQEXBJ/2AnskgZEDfGz29gNYtuRJSNR3gwVb9xZcVPloEzwaM9QV5Ljpk/sO5fGxa6WMIA\n",
       "SYcghFS90nB8PYBS/sNOl/VyOZCUwKVSoPZNGuVbLEBJnUR91m/AcKPwxVAEM02lFJTsABXfXQ1A\n",
       "/wMo8eFwQ6HWfFd3M7a9y1MLB/u80Oz6jWIFi5DIZDdKJqOOn7I27PBbsC7hMb17NqzDLtd4d6H2\n",
       "rKfyc3V6Of3T8aGsVNeQEMWDX5GY3NO/55pE3IjaGWn/FD2z4kkFj3fHAguJcLpoO5G0xUnqx98C\n",
       "A4xLPZnEwSyfVnLkR2c3k2rLZcLJMqlXz5HgUlpsEsUYoibN+jlkhPy/fLawhA4uOc+viAQcGOTc\n",
       "ztkisj7wzKGmYISb4ML4EN2FTNi7i/s+O6bkYOuBdoAoMxwl5OypPfKLUVGDmYSLOvtGWJ5EFnZG\n",
       "uKKfqPNPxIaK3thYrF4oknaIMG9e92Ylr5r9pGzCYT03xJm8bfdwztnu/v5Bq9e/3xXuMW/vj1KF\n",
       "hqLMILLka5QgyW4viU7R8/eFcYSs0y9zHuh1rC3Hlbq/2XrwCDM8WJqJ0tqgXlmkJWYk0uf/9Jr0\n",
       "7psWZxAGLu6hUQwrMyJupYcbZ1KSvlPJKQVvMQCDNE2rHvUESnQcunI04amtVSD8cp/1dfT5SQsU\n",
       "D8OVrdg7GaVtnVsWatoGsBdwAujBokZ4geQo0oJTX5b+17CnpA6+nkOxtRIQlSYBkvGTy9AAMOAb\n",
       "zpREGeju0XA/sx7IU/HDY6+5UWXUP/bTbEpU/B9+md+fstBqIaGOWsX4EyilDHKFIU+OvdBnthWy\n",
       "FGtYqHqm87GlH3RxQADps79cLYuW2oZnnd0esjxzxunmY2VIvK5FZ2+nFlA6UFEy34YKdrnCjBsD\n",
       "FoNyebP+JHieLC5sgbZakWYsxw5x1ofdH4e3fA9DM298kDjhdF8oVIyrM9qs2vp0jh5uBGXf3AOl\n",
       "8f8IxbDSeuBQQkrS5/e7Cr362K6CrRnIj1eJJb0oy6HzEAje9Xsl+I9uQXhlujTICN78BJSq7Ayl\n",
       "EeJyKyP0YEXVva83xpr+g+NqsG9vgj+e5vpBvnHvVGnR7PG+KlaMiLBLBVN9seJFfMex1acOyxDW\n",
       "y10kqrwbXr8MXwOn8H/BY2eETfP0H1NcedXbGL62Ql1ytpCoP6oKpedOTOpNXaNr109baqV0eT4B\n",
       "MtRuSvBybGhGiUoaLeftF9lEUFNIeMiV26FhLWz20lu9j03IXUWEPx1I1pUqqkR2Mm3SRKiy/DCl\n",
       "uyZ2+Fhgaz/SUmEgfmS+A0KtWz5/b8Ki+IEu2wkRv6zDmOQf6Tjqqf8v8Yy+uamK5+TpYVvZRELs\n",
       "Q/TQOD851SUi+uoGq2fjxsvH5+rfkFDAVybRyH2Ne0911m9mq4GJ55qUGO+mP1cwIF074xNxbvtY\n",
       "rz2IukZJ5JfpMu4JXS8PooksCpatYRZ9hkGFCT1jygAmMPClhy57vJFiZYS6XaraulKNvqB0rtCJ\n",
       "9ciT89iGSgpM4bnzNV+G9fTPxB78zB78h6lyes6TsSCgLfRjH/9tUh1ixPLWvPh02Ue+DL45P8mz\n",
       "Yvaj5tjr7c2yesi5e7nVQlgkGR0qWHWcLDpmGOpNesmTKAh+40WULGx6OBjJpwde0q00EejnnqWe\n",
       "UKYd3jezyRuhWHySpI360lAYeKGLyC5upT+THJeyKho/1jsIupqDto9Xyb3cJF4R2RxrOL+iJgZR\n",
       "KwvoDdFeM1HMvPl54a6oaOnoXA9bt597FNvMqN/7qrEiw/V3A1S+E504DOlg1IsRjsd97XsOV95R\n",
       "vr4Km94fXEkNuDarImA0EZd7da5yMfw4TptxNMwB9dWNFFujHMM3aaSZiEEatGpNLvg42sn5Eh0X\n",
       "+DyR7/O27kiQuS6q8WT3JoLjo+iOz4dO0K5o3ZpxNDLyr76I8gSbYm7P/t+al1JlKzLHG91bIMnl\n",
       "waCPkyO5k3bt7mgJcMqq19msyUsYgGvclubX8BzfTbAgu4fS4Dqda1/lD8mY/HH3l+RDQXvGEBgH\n",
       "dosli/nQW42MSiQYltNTzRk2RQCUyV55HD5h39OnT0Vup6/33GcPufXfG2W/Tk2pmOwdFlXKDpED\n",
       "W8S83fqWaZzlQkQKm14uJ4/7aGOwN7434czazUC2TPkS6wiBTLW6B/e74mIGu+Di+CQe3L68os4a\n",
       "6yWicSHWZxNbzT2f9A50naVXieBnmVEHemNLzG2lVcFAgqMfbSXCCv6l6Wm5csf+0l3vLFD6IbqW\n",
       "bjg6D/rYDVzyI9cO7hWeu/T49BZ/kbLI1bW/2Eh1Pr8eLW7H7yWNhZFAZxidpuOPXEyVNTxjF+FO\n",
       "U/RezeOU5BW9L9HhuiJ4izMY9asb9SBbQPbPmTBYVi0YgHeXrLxs3S7ASuhpdHuxZpBFDJEq3HPv\n",
       "bUutSF15qRhfpMzUrO5nt0GPtob+ISYFG4S6T7BQGy/VyNBZceUclgwS8DA+m3VS71bn+Qeq5agZ\n",
       "MtgtaWji3kFhZDQx1HGO7yqU3Xf+AlT1b4v4hXjV5TkUVzro3hIkrpP2AVrqGOGz6ZXQPOO/TddB\n",
       "i/u8avtWD8LhVsYcEUNWr2NclzgX8GKjflfx2KOQw+85yq7/3iFFvNHtD9PVdqRKAAszs4GJIszn\n",
       "4P98APSJ03hq2a6vsqSm0V9Pn86Rels1GeiFRHXOC1X2oOSPagFrpRSANdk1q2mV2gJ3S+QBhngl\n",
       "IxdrT/pxrtnuZzmBJVpncCpZ5PAU0UBmsXpIr4HCnYGe1RNFbicnhpaEC417Q9oUX1gwX5JmkO6u\n",
       "fM3+iAxPqSG/AYh6PWZLPMkRnEGQxqG1fH8lgafaVv9VaqdOwjdRri/7E5Cygm1xUFMPJNC/jG0x\n",
       "D7dXZJeOwZQBd6FXpxtZMH4sudC8wBfChZc2yAeb/Y7aTL/ib+d3Ov+Hrmow6Tenup/l3RnEZzfg\n",
       "O0Q5xj2crABGmXHTw1h2JHSW0P9PkbsvoPVwacQXQGcNNfmilQQ23v2e8eN0Nn9M9/uJx6WZjtkH\n",
       "0O2Ajsprh6U0jkE3vXji5a3ttnLHdCI/yUBqC4AqlfCazcBbys27NYdwz4DggvNfHXx2pudKcIu8\n",
       "b+83GB/BQn33B3ek9opny8l4w5vnJHBUlgPaQBXC9rt+mjjJUgFC6i2gbOxeN2msENqs2uHe+oSP\n",
       "usofROV881PXy/Vex9qO8IZf1EZ3CHc3i46/HDqmGBY0tdf7MST6fmwbv0PGFZStSPqJoWYAUGHZ\n",
       "NPzhRxDYCiMKAi77XBIX84fpGSGH3ap5Fz1QTL3nZrHGAVoo3jfaO8Smec45BaqtdeBVLPRiTBCH\n",
       "goBK//nSo3WeZCg3QkxiMQ5oS/VadZ/tnDsQzO8kEblSKIwbfQf/kmZMJSuALTz+dVRu6GueWcxD\n",
       "TERxTauV473QeS6EAnICOoOGqeyCoLc7LyQErQ1yUe2qt3vlejL1Kww8dduN10SLd22Wli/Fi1qh\n",
       "yAYIYHm8o105eK888uybD0PtLefE9g48w9ucTV7vx4cgfjgUuwnQPdt7aD7QhB+9vOjEqrILDsB3\n",
       "2nwn+4jCB+Z5TAXGu+9wO+nJPmJhZXhKpSstrzH1Cke6Z9xJI4Msa6N1oPP1D/kS6Qubx/EP9XtC\n",
       "wLUU3H4k/20rSXHS73xNp0P1eJaWKdTKE21yFmoXU/Ie5y42bPbnnVNv9DJkdIewG1UQr6kSLcUW\n",
       "JObBDPMzf00UAT5stqtoMvc9oB6Ko8KQKHJJFnsIdaKyv4PWM9zWY7Xmttiw+qHg870g5OzoHDUX\n",
       "QP0Sfw/qdosDDrhlZf7VftOpyYMCAy7cUVLQ5e4Qq2pAqKOmbc9RPji2KlfP+y5vwpLtiHsWnAEg\n",
       "/43PI5Imc4HGv0GMHLMoND8UaPWU5vYnMfRiC6+lrRRZPSaFLi24/o9cHt0AJpAFwYNWRXVVFTiu\n",
       "5ziO3du0lS1UqiuMc+evlmEN22bzatmQi/qvEg7FgUPebYoj5lwbfisnV/Vmx9Q32aBMkZP77bj+\n",
       "GDJoh6XSU36EmQqs5UpvzuRqf6xlPzebs836NWPLHLHcMsiY/81sJbwB/ePG4lxMIvvH/0KfQrD+\n",
       "BvJeCvRxgKZMv74cPJNx0dEVoFVFpihRaPwld4sAXRlna8AAGi8hu9tGq9hSIma+ToTQvVZxMSWb\n",
       "xcotWbwAEeMrnQMbnFATlTOKnxrq0OPsytpw7ixZtPaGP3/Z+7LuiGrFRgkYjjT06IYFJsBaxRNB\n",
       "B6m7Qf8iBXrMwXQx0P00SkOSn061Xh9eKsYHVSkM8fByRp2rUcT+QtE0GS7UzEGQ2II7V3Hw3d+Y\n",
       "xZRJhHIl64DtEgJmnedsFdeGUi97vZUWhGjyr+Q3i4DvjlIIwWQqC20MAQj7PK/WyotYEFpchukW\n",
       "AUrdefq54al1eewu1djlDwIad5gaIhM10cqiq9fNU7iJZZs79lfTcvT+Ylcch81ZbfKofdNuP1ms\n",
       "geoaYQfDGREEGpe7t1192toQ4ih+Psv7Mz+qXMYjQrBPSI3uITD1O2L8fc70V8nGb8dOr+hr4N4f\n",
       "rVxF47sOOHME9t8iaX2zBMK6NDq/+n2j0oVGOcD7X0MO9eIlImLve8m/j2wB2y10exUzDyyMS10s\n",
       "JRtr0PuAGVD9llW3iV2TJFHXMXKnIMof2wQatasgVrAdE9Gp8P5XgjB71tlYQFRnyp7w1WKVl2Vw\n",
       "+rJdSaWbwNgq0Z+SApgTrc3MDMoFoeNQjadEyvXGdFKARq0jxSFOVQ+B0M4izZqqJyxL5EnAGikl\n",
       "w6jLbSBV4g5QgR0mdP3KSeE96qx53FYklsNWx/GANYABVlexUqezZk3aNTptS4jKBhuei5Oi6C/i\n",
       "nOtbsOWvljodzFT1ENNSHKHENPKi/5gO1D1ZI3iaefEtIsDc5a0pZzq4HsPqXdCdAgdQePEUajfM\n",
       "olglYpq2y25H6pAO0EU6DkvovpfBv7Mzv6jKZun/d1W7Ykt/UToANw2efTP2y8PDO1EF6heOz1hF\n",
       "qCTZ/Ovd13r2pTFc7vEGn8AJSr/O1hzXRhtYX4Fs+1YVCg1+j/haoQJlQnjQtNdTvgZJ5Ha5LMaP\n",
       "oJ6iorIsh3gdNAF8ABD8QbiHDGPSQpcoqfc1wnVH4CTESy/7lveG/tl5+xwpbnvFTFT1B8TTzX9c\n",
       "0CT7O5nEuqDq0mk7KUpCB2si3FuTndjREB9aJ866AfocoPWC4F9PQQgaXNp0Rw74G7Hs1etwhW31\n",
       "jp2ZQo2s6+yT4o7tIwrtDBSkTevZ9ZpAri0OOlO9wKk6BF2t6uPpNUEAHGZogVepkhy1ICNi4Pnb\n",
       "uu8m4nfoYla7v1cuPwdoJiKZQdVH5n2rXvS2AdAOs8eMY1VIvqrwyYNi8Oq5wBp1dzDFj9QCWl73\n",
       "/TKs3rXM1phzar5toEchq7gmqiKQqbwwmi4AAtlvPQc0XH8MGS+N0g5pbZA4keuHf9r0ee/dxzWO\n",
       "sCNd10zyEqmSt1Ooso3zm4ZlH5SoXI0Mz3e9LmFthVIM7HNOgtRmeo6EEhGZq/MY4CiEzi/UpZ0a\n",
       "Fz3yMK8Cnao15FCV5SIF2MaeOcyjfotXszp/nObBJ0GRh6koyjfN2wQnIczT8bqgXTfZVIo4C7Dn\n",
       "DmExjz4uMxmE01Ubd6FWEMUqH1YhDj/yYi/7lMYiulJ9N7fUYvwGmSViYHUX0eWFwH2cyIc2Y+SI\n",
       "ypw0P3CAVD1aHyvai9QcgxgxTGQbNhl9nBFjlZyNy7L7n4KZYRKoCx6ACKk3Pq+SRi9vbMKnyNb4\n",
       "lZrLCmpcvn7WHorTz1diPH6mD5miK6RCvmIobbYWfQW8DVvwW+SNJkMikUa0Cnzqm0fmRErwdYIu\n",
       "AuXNvK5Le4Oh4ChwCScQFY1t2mmaFDQoTJCL1QkdGIZ+QVXYq8e5hFJfZ54uRY7pL8YpRhIIOD7z\n",
       "587lEhkrHT4j4NzFnp5h4BMogZewWi2KtNFo0Rm6dL97fdKQiIbQ63GZj/YqL//im70NwRt5EqcK\n",
       "tDXpMaN1bUf/RVP5yI2B6KeLRcqCv3ZEyuaOW/3wfD7O42VtpS01gzHEqD6PM0G8V2rDC4GoLq+H\n",
       "THCtGfpLCAwbmPp0r0/2icaoCBB9jkLq7q8oebn4unDsJ2bLMBPMA3LSMGi98duTqYO+lKfGYoTc\n",
       "m0Y/YV7KT93GHvNfStutIKjEHZJ6FUsUG8rPkL8deGGYQxCJz+RQ2d+cBCGTQuRe8jSrf6rGARYn\n",
       "SjSxH7ce5XrFJRK1WPbXjIzljg1w8V6HxbBDJ1QyZsMR+7/+TBX2MYNqJ2KQCSIeKhcaEaI4/m6J\n",
       "eUJDj8YMMTMBLE2JnzqEZaL/vVFJcZrE8tbNDbo36PtE9ANtYyNXFelPbMIJM6HhQbEmT3lMZHjk\n",
       "Z5j4NuuvO/UbAK0zi8Wfyuc1iFNtkXzZWTrAWvVSSaHMWabNGpuUKWcJSHotaJHQAPw8dyMLVPnn\n",
       "gGMT7ptuIJyj1gXU9xD+HHABzp/PavdoML0rCErsvJBo0CEJpkZ9Ort0VD6/sSiFOB40na1MzO6y\n",
       "xAs+NamNqG637ThJ5YH8FpkdSiC9BQOubVr4/HEQAtYcht8vZhOGOJ+/rCyc2YFRdPZ8U+esT/+/\n",
       "cKr/upymrAaXsKi18/2eAvleVswTUT+E7gONkvyktTEGPC3oxxO32weDlTjBRh2NA2ckQA8hTYQE\n",
       "49p1y48ANBO4gkhbdNUTQPcPggJOYCfk5v4mA5eNODLhhOotYq0KyUvQIwq2gOZaMfNtshhNuBCZ\n",
       "hcCtblhMw9xza/T3wFS1wJMF+xItqlhgYbdrBUXaamXhL/2gXaUCmDaxNVqSxok3yQJTZeVAHvjS\n",
       "+/e0Hn7eE8kf2njQjqlh0yIKSNrd3wK9rcNp5qRCK/qfNKLfggZsFhxP07cKS8nTwArwuYtgmdN+\n",
       "ojJA7QQJhNZZV6Dnnk8nVpbKhhSbVu+5I8daiYD8JfPlDh6sizCMreUSwagAOdWx+3JOnVW/8UmQ\n",
       "jVB40R/JlGw2KCOg7zoCi6ZjR9euUp55bARvCHCkl9X0kRlBtzWPg1MRJ9+q8ul5gw6MceRk2H31\n",
       "0767TezLFIgC12ygsEKk7+/8DFNmquraxukMIqtxh6xpr10rfIf3rkn7qT5bXuh2l7rhKyNOV2VT\n",
       "HIJPPucWHYPQAuJ7vQLF6lR2xhJaOinojABuEASSlGnWp2Yg1NPzzJZ3crj5ZeoeIRNtmA74AO+j\n",
       "S11HxgWkYkLL0L7gmkSKv9adR/qHVLmqmoLHeBfzC1ufa9Sfz4qdmOXYwiPYve2jw0V6ULCKw1h5\n",
       "ReXxMFEvVGvEV77erHoxHLEIEXvDQCZYTgtw3g4TLstFR6MDsqk+xSgzPLFzKxnUYK2ysmiBvTcb\n",
       "b3yvC/39+hhTcffNRUxPysa/QT95zFHX5oHOt4uTleA0x0UEOC0BfqniD7rTJ3XIAr6bNpNg3XfI\n",
       "rr67MooiRurfHoeSZ9VQPWa2c1gSRuRwcbGw4tcPhMFPX+WHdZZzrcefpKx/0I04gquYxxKPW2rb\n",
       "1UaLBZQZdiKQMH6fgLGde+sRviRzPkoBvdq9jb2PA78MUqBRad3PmKwEa95g2eu4Z2Vp0Kz36O+X\n",
       "p6XWu3qYmh3nBK5ZlR727k4XByM63tmL33L1lgGKaROz6yzhJv5bgovid34AEqAuTdeR27Kk14S7\n",
       "hHBWAtHp6FxXSPKsJcRnhf0Ty8VjR/1Bw9XnpcjbZEG+2B6QNhqMz6hzIwnVpbzskL/8en5q9NC0\n",
       "I27XbA6ZjhRWYNpzAQ9P4htOM5o/1gbTqH3rn8OUPjGzSB8q/KpvLJqjYHWv9ibopdJD0ZQxBPOf\n",
       "oM1MvKMpStD30zDoURXS8aiNYfaCLqcUsNZ2pQZAyBPNTspYroBoP9ZM0ZEzQPZvjgKdPKa8ecov\n",
       "2m/mtHfgUGy1xyilpd288teUAIljfB/dVGnwwLxgL/JzbxM+9dp9nSlhUH2MjuFabvY/psX6eW4/\n",
       "PaDhzBoasa8DZsP/hJ7QIMOuYlbTmE7yutBOHSKCwbFy2J63J8/qYdKKPG7peW4LWGVJ8jE9tbR4\n",
       "WheFC504unLkXlIHRrpTas/sSOt9MeGO3jX3G+6Y+v3a94LeMQ/9M74LWdOC93Y8kUouvGlwMPQ7\n",
       "m49g71VWoFPQ6rZAePEbkGD2Uz6y1JsxIoLTbtDyU30Bk52eaJ3X3xmW9Pc6rbI0EKEMibpOcCNq\n",
       "S1NALInzpoygWDFWOH8xVs0H02g6JF78MDRpMLTPW2zY7cc0SXnSF03FHBQHGdbOMvnoPOx0h0Fx\n",
       "lKqv+FMiVvoB8M9br11ZfeBCRpt3F0xScCy+tuPrF9jXyCC0jYRfKvjQ3MpjH8SxXgBls/ZdTgaY\n",
       "iqn8QEsHDMDsJrwjs7h9ZHdERm7QG1Gd2cZJCbiiEg3XRUgbNXFPdTjNrapZolkYeBM2lVk2A4cb\n",
       "GKLNUo+d8Q0333LGYWpQDoqpacCeb+3FKVo2x/QR8NkwRgvbv+kVBL+gCOSDTLQZGcFA00iPrl0t\n",
       "EAXWGT1hpwBDG4MD2mSoyJrWBKRc8hS4agERh2oJ1Rv9IHwYm7tKuSeFV+sU3JsOL1Kq7loxGPpO\n",
       "G/QeNPMmg0kKhms0nQzRaxlyej40gAAAAwHbHREAAAMLbW9vdgAAAGxtdmhkAAAAAAAAAAAAAAAA\n",
       "AAAD6AAAADIAAQAAAQAAAAAAAAAAAAAAAAEAAAAAAAAAAAAAAAAAAAABAAAAAAAAAAAAAAAAAABA\n",
       "AAAAAAAAAAAAAAAAAAAAAAAAAAAAAAAAAAAAAAAAAgAAAjV0cmFrAAAAXHRraGQAAAADAAAAAAAA\n",
       "AAAAAAABAAAAAAAAADIAAAAAAAAAAAAAAAAAAAAAAAEAAAAAAAAAAAAAAAAAAAABAAAAAAAAAAAA\n",
       "AAAAAABAAAAABaAAAAFoAAAAAAAkZWR0cwAAABxlbHN0AAAAAAAAAAEAAAAyAAAAAAABAAAAAAGt\n",
       "bWRpYQAAACBtZGhkAAAAAAAAAAAAAAAAAAAoAAAAAgBVxAAAAAAALWhkbHIAAAAAAAAAAHZpZGUA\n",
       "AAAAAAAAAAAAAABWaWRlb0hhbmRsZXIAAAABWG1pbmYAAAAUdm1oZAAAAAEAAAAAAAAAAAAAACRk\n",
       "aW5mAAAAHGRyZWYAAAAAAAAAAQAAAAx1cmwgAAAAAQAAARhzdGJsAAAAtHN0c2QAAAAAAAAAAQAA\n",
       "AKRhdmMxAAAAAAAAAAEAAAAAAAAAAAAAAAAAAAAABaABaABIAAAASAAAAAAAAAABAAAAAAAAAAAA\n",
       "AAAAAAAAAAAAAAAAAAAAAAAAAAAAAAAAGP//AAAAMmF2Y0MBZAAf/+EAGWdkAB+s2UBaC/5YQAAA\n",
       "AwBAAAAKA8YMZYABAAZo6+PLIsAAAAAcdXVpZGtoQPJfJE/FujmlG88DI/MAAAAAAAAAGHN0dHMA\n",
       "AAAAAAAAAQAAAAEAAAIAAAAAHHN0c2MAAAAAAAAAAQAAAAEAAAABAAAAAQAAABRzdHN6AAAAAAAA\n",
       "JcsAAAABAAAAFHN0Y28AAAAAAAAAAQAAACwAAABidWR0YQAAAFptZXRhAAAAAAAAACFoZGxyAAAA\n",
       "AAAAAABtZGlyYXBwbAAAAAAAAAAAAAAAAC1pbHN0AAAAJal0b28AAAAdZGF0YQAAAAEAAAAATGF2\n",
       "ZjU3LjU2LjEwMQ==\n",
       "\">\n",
       "  Your browser does not support the video tag.\n",
       "</video>"
      ],
      "text/plain": [
       "<IPython.core.display.HTML object>"
      ]
     },
     "execution_count": 26,
     "metadata": {},
     "output_type": "execute_result"
    },
    {
     "data": {
      "image/png": "[encoded data removed]",
      "text/plain": [
       "<Figure size 1440x360 with 3 Axes>"
      ]
     },
     "metadata": {
      "needs_background": "light"
     },
     "output_type": "display_data"
    }
   ],
   "source": [
    "ani = animate_layer(\n",
    "    data=(xs, ys), \n",
    "    predictions=(xs_test, train_history[\"preds\"]), \n",
    "    layer_stats=(train_history[\"layer_loc\"], train_history[\"layer_scale\"]), \n",
    "    max_size=MAX_SIZE, \n",
    "    output_path=\"../animation\"\n",
    ")\n",
    "HTML(ani.to_html5_video())"
   ]
  },
  {
   "cell_type": "code",
   "execution_count": 28,
   "metadata": {},
   "outputs": [
    {
     "data": {
      "text/plain": [
       "array([1.1949111], dtype=float32)"
      ]
     },
     "execution_count": 28,
     "metadata": {},
     "output_type": "execute_result"
    }
   ],
   "source": [
    "train_history[\"layer_loc\"]"
   ]
  },
  {
   "cell_type": "code",
   "execution_count": null,
   "metadata": {},
   "outputs": [],
   "source": []
  },
  {
   "cell_type": "code",
   "execution_count": null,
   "metadata": {},
   "outputs": [],
   "source": []
  }
 ],
 "metadata": {
  "kernelspec": {
   "display_name": "Python 3",
   "language": "python",
   "name": "python3"
  },
  "language_info": {
   "codemirror_mode": {
    "name": "ipython",
    "version": 3
   },
   "file_extension": ".py",
   "mimetype": "text/x-python",
   "name": "python",
   "nbconvert_exporter": "python",
   "pygments_lexer": "ipython3",
   "version": "3.7.3"
  },
  "pycharm": {
   "stem_cell": {
    "cell_type": "raw",
    "metadata": {
     "collapsed": false
    },
    "source": []
   }
  }
 },
 "nbformat": 4,
 "nbformat_minor": 1
}
